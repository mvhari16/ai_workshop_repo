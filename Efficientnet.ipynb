{
 "cells": [
  {
   "cell_type": "code",
   "execution_count": 58,
   "id": "ae51634b",
   "metadata": {},
   "outputs": [],
   "source": [
    "import pandas as pd\n",
    "import cv2\n",
    "import numpy as np # linear algebra\n",
    "import pandas as pd # data processing, CSV file I/O (e.g. pd.read_csv)\n",
    "\n",
    "# Input data files are available in the \"../input/\" directory.\n",
    "# For example, running this (by clicking run or pressing Shift+Enter) will list the files in the input directory\n",
    "\n",
    "import os\n",
    "from tqdm import tqdm\n",
    "from tensorflow.keras import applications\n",
    "#from efficientnet import EfficientNetB3\n",
    "from tensorflow.keras import callbacks\n",
    "from tensorflow.keras.models import Sequential\n",
    "import matplotlib.pyplot as plt"
   ]
  },
  {
   "cell_type": "code",
   "execution_count": 10,
   "id": "75e84e21",
   "metadata": {},
   "outputs": [
    {
     "data": {
      "text/plain": [
       "['Evaluation_Set', 'Test_Set', 'Training_Set']"
      ]
     },
     "execution_count": 10,
     "metadata": {},
     "output_type": "execute_result"
    }
   ],
   "source": [
    "os.listdir('../tf_workspace/AI_Project/Workspace/RFMDI Dataset')"
   ]
  },
  {
   "cell_type": "code",
   "execution_count": 1,
   "id": "fe3176f5",
   "metadata": {},
   "outputs": [],
   "source": [
    "from tensorflow.keras.applications import EfficientNetB0\n",
    "model = EfficientNetB0(weights='imagenet')"
   ]
  },
  {
   "cell_type": "code",
   "execution_count": null,
   "id": "4241a969",
   "metadata": {},
   "outputs": [],
   "source": [
    "model = EfficientNetB0(include_top=False, weights='imagenet')"
   ]
  },
  {
   "cell_type": "markdown",
   "id": "bd9029f9",
   "metadata": {},
   "source": [
    "!pip install -U efficientnet"
   ]
  },
  {
   "cell_type": "code",
   "execution_count": 24,
   "id": "bc8a6219",
   "metadata": {},
   "outputs": [],
   "source": [
    "train =pd.read_csv('../tf_workspace/AI_Project/Workspace/RFMDI Dataset/Training_Set/RFMiD_Training_Labels.csv')\n",
    "test  =pd.read_csv('../tf_workspace/AI_Project/Workspace/RFMDI Dataset/Test_Set/RFMiD_Testing_Labels.csv')\n",
    "val  =pd.read_csv('../tf_workspace/AI_Project/Workspace/RFMDI Dataset/Evaluation_Set/RFMiD_Validation_Labels.csv')\n"
   ]
  },
  {
   "cell_type": "code",
   "execution_count": 13,
   "id": "f66983c9",
   "metadata": {},
   "outputs": [],
   "source": [
    "train_abnrml_path='../tf_workspace/AI_Project/Workspace/RFMDI Dataset/Training_Set/Training/abnrml'\n",
    "train_nrml_path='../tf_workspace/AI_Project/Workspace/RFMDI Dataset/Training_Set/Training/nrml'"
   ]
  },
  {
   "cell_type": "code",
   "execution_count": 15,
   "id": "f3e27229",
   "metadata": {},
   "outputs": [
    {
     "name": "stderr",
     "output_type": "stream",
     "text": [
      "100%|██████████████████████████████████████████████████████████████████████████████| 1519/1519 [02:17<00:00, 11.02it/s]\n",
      "100%|████████████████████████████████████████████████████████████████████████████████| 401/401 [00:40<00:00,  9.85it/s]\n"
     ]
    }
   ],
   "source": [
    "x_train=[]\n",
    "for img in tqdm(os.listdir(train_abnrml_path)):    \n",
    "    image_path=train_abnrml_path+\"/\"+img\n",
    "    img_arr=cv2.imread(image_path)\n",
    "    img_arr=cv2.resize(img_arr,(224,224))\n",
    "    x_train.append(img_arr)\n",
    "\n",
    "for img in tqdm(os.listdir(train_nrml_path)):    \n",
    "    image_path=train_nrml_path+\"/\"+img\n",
    "    img_arr=cv2.imread(image_path)\n",
    "    img_arr=cv2.resize(img_arr,(224,224))\n",
    "    x_train.append(img_arr)"
   ]
  },
  {
   "cell_type": "code",
   "execution_count": 16,
   "id": "0e1b5340",
   "metadata": {},
   "outputs": [
    {
     "name": "stderr",
     "output_type": "stream",
     "text": [
      "100%|████████████████████████████████████████████████████████████████████████████████| 506/506 [00:45<00:00, 11.03it/s]\n",
      "100%|████████████████████████████████████████████████████████████████████████████████| 134/134 [00:18<00:00,  7.33it/s]\n"
     ]
    }
   ],
   "source": [
    "test_abnrml_path='../tf_workspace/AI_Project/Workspace/RFMDI Dataset/Test_Set/Test/abnrml'\n",
    "test_nrml_path='../tf_workspace/AI_Project/Workspace/RFMDI Dataset/Test_Set/Test/nrml'\n",
    "x_test=[]\n",
    "for img in tqdm(os.listdir(test_abnrml_path)):    \n",
    "    image_path=test_abnrml_path+\"/\"+img\n",
    "    img_arr=cv2.imread(image_path)\n",
    "    img_arr=cv2.resize(img_arr,(224,224))\n",
    "    x_test.append(img_arr)\n",
    "\n",
    "for img in tqdm(os.listdir(test_nrml_path)):    \n",
    "    image_path=test_nrml_path+\"/\"+img\n",
    "    img_arr=cv2.imread(image_path)\n",
    "    img_arr=cv2.resize(img_arr,(224,224))\n",
    "    x_test.append(img_arr)"
   ]
  },
  {
   "cell_type": "code",
   "execution_count": 20,
   "id": "bc2fabe1",
   "metadata": {},
   "outputs": [
    {
     "name": "stderr",
     "output_type": "stream",
     "text": [
      "100%|████████████████████████████████████████████████████████████████████████████████| 506/506 [00:47<00:00, 10.74it/s]\n",
      "100%|████████████████████████████████████████████████████████████████████████████████| 134/134 [00:16<00:00,  8.11it/s]\n"
     ]
    }
   ],
   "source": [
    "val_abnrml_path='../tf_workspace/AI_Project/Workspace/RFMDI Dataset/Evaluation_Set/Validation/abnrml'\n",
    "val_nrml_path='../tf_workspace/AI_Project/Workspace/RFMDI Dataset/Evaluation_Set/Validation/nrml'\n",
    "x_val=[]\n",
    "for img in tqdm(os.listdir(val_abnrml_path)):    \n",
    "    image_path=val_abnrml_path+\"/\"+img\n",
    "    img_arr=cv2.imread(image_path)\n",
    "    img_arr=cv2.resize(img_arr,(224,224))\n",
    "    x_val.append(img_arr)\n",
    "\n",
    "for img in tqdm(os.listdir(val_nrml_path)):    \n",
    "    image_path=val_nrml_path+\"/\"+img\n",
    "    img_arr=cv2.imread(image_path)\n",
    "    img_arr=cv2.resize(img_arr,(224,224))\n",
    "    x_val.append(img_arr)"
   ]
  },
  {
   "cell_type": "code",
   "execution_count": 37,
   "id": "23202dcd",
   "metadata": {},
   "outputs": [],
   "source": [
    "train_x=np.array(x_train)\n",
    "test_x=np.array(x_test)\n",
    "val_x=np.array(x_val)"
   ]
  },
  {
   "cell_type": "code",
   "execution_count": 38,
   "id": "94d3a1d3",
   "metadata": {},
   "outputs": [
    {
     "data": {
      "text/plain": [
       "(640, 224, 224, 3)"
      ]
     },
     "execution_count": 38,
     "metadata": {},
     "output_type": "execute_result"
    }
   ],
   "source": [
    "train_x.shape\n",
    "test_x.shape\n",
    "val_x.shape"
   ]
  },
  {
   "cell_type": "code",
   "execution_count": 39,
   "id": "12930022",
   "metadata": {},
   "outputs": [],
   "source": [
    "train_x=train_x/255.0\n",
    "test_x=test_x/255.0\n",
    "val_x=val_x/255.0"
   ]
  },
  {
   "cell_type": "code",
   "execution_count": 40,
   "id": "6cb83496",
   "metadata": {},
   "outputs": [
    {
     "data": {
      "text/plain": [
       "{'abnrml': 0, 'nrml': 1}"
      ]
     },
     "execution_count": 40,
     "metadata": {},
     "output_type": "execute_result"
    }
   ],
   "source": [
    "training_set.class_indices\n",
    "testing_set.class_indices\n",
    "valuation_set.class_indices"
   ]
  },
  {
   "cell_type": "code",
   "execution_count": 42,
   "id": "b1f1fd9d",
   "metadata": {},
   "outputs": [],
   "source": [
    "train_y=training_set.classes\n",
    "test_y=testing_set.classes\n",
    "val_y=valuation_set.classes"
   ]
  },
  {
   "cell_type": "code",
   "execution_count": 43,
   "id": "a05406d4",
   "metadata": {},
   "outputs": [
    {
     "data": {
      "text/plain": [
       "(640,)"
      ]
     },
     "execution_count": 43,
     "metadata": {},
     "output_type": "execute_result"
    }
   ],
   "source": [
    "train_y.shape\n",
    "test_y.shape\n",
    "val_y.shape"
   ]
  },
  {
   "cell_type": "code",
   "execution_count": 44,
   "id": "1e662bdd",
   "metadata": {},
   "outputs": [],
   "source": [
    "# re-size all the images to this\n",
    "IMAGE_SIZE = [224, 224]"
   ]
  },
  {
   "cell_type": "markdown",
   "id": "797fc8f1",
   "metadata": {},
   "source": [
    "# Image Agumentation"
   ]
  },
  {
   "cell_type": "code",
   "execution_count": 21,
   "id": "d5e2fab0",
   "metadata": {},
   "outputs": [],
   "source": [
    "from tensorflow.keras.preprocessing.image import ImageDataGenerator\n",
    "\n",
    "train_datagen = ImageDataGenerator(\n",
    "    rescale=1/255,\n",
    "    validation_split=0.10,\n",
    "    rotation_range=40,\n",
    "    width_shift_range=0.2,\n",
    "    height_shift_range=0.2,\n",
    "    shear_range=0.2,\n",
    "    zoom_range=0.2,\n",
    "    horizontal_flip=True,\n",
    "    fill_mode='nearest'\n",
    ")"
   ]
  },
  {
   "cell_type": "code",
   "execution_count": 29,
   "id": "67cde662",
   "metadata": {},
   "outputs": [
    {
     "name": "stdout",
     "output_type": "stream",
     "text": [
      "Found 1920 images belonging to 2 classes.\n",
      "Found 640 images belonging to 2 classes.\n",
      "Found 640 images belonging to 2 classes.\n"
     ]
    }
   ],
   "source": [
    "training_set = train_datagen.flow_from_directory('../tf_workspace/AI_Project/Workspace/RFMDI Dataset/Training_Set/Training',\n",
    "                                                 target_size = (224, 224),\n",
    "                                                 batch_size = 32,\n",
    "                                                 class_mode = 'sparse')\n",
    "testing_set = train_datagen.flow_from_directory('../tf_workspace/AI_Project/Workspace/RFMDI Dataset/Test_Set/Test',\n",
    "                                                 target_size = (224, 224),\n",
    "                                                 batch_size = 32,\n",
    "                                                 class_mode = 'sparse')\n",
    "valuation_set = train_datagen.flow_from_directory('../tf_workspace/AI_Project/Workspace/RFMDI Dataset/Evaluation_Set/Validation',\n",
    "                                                 target_size = (224, 224),\n",
    "                                                 batch_size = 32,\n",
    "                                                 class_mode = 'sparse')"
   ]
  },
  {
   "cell_type": "code",
   "execution_count": 68,
   "id": "ff4b9bf5",
   "metadata": {},
   "outputs": [
    {
     "name": "stdout",
     "output_type": "stream",
     "text": [
      "Model: \"sequential_2\"\n",
      "_________________________________________________________________\n",
      "Layer (type)                 Output Shape              Param #   \n",
      "=================================================================\n",
      "efficientnetb0 (Functional)  (None, 1280)              4049571   \n",
      "_________________________________________________________________\n",
      "dense_6 (Dense)              (None, 120)               153720    \n",
      "_________________________________________________________________\n",
      "dense_7 (Dense)              (None, 60)                7260      \n",
      "_________________________________________________________________\n",
      "dense_8 (Dense)              (None, 1)                 61        \n",
      "=================================================================\n",
      "Total params: 4,210,612\n",
      "Trainable params: 4,168,589\n",
      "Non-trainable params: 42,023\n",
      "_________________________________________________________________\n"
     ]
    }
   ],
   "source": [
    "from tensorflow.keras.layers import Dense\n",
    "from tensorflow.keras.optimizers import Adam\n",
    "\n",
    "efficient_net = EfficientNetB0(\n",
    "    weights='imagenet',\n",
    "    input_shape=(32,32,3),\n",
    "    include_top=False,\n",
    "    pooling='max'\n",
    ")\n",
    "\n",
    "model = Sequential()\n",
    "model.add(efficient_net)\n",
    "model.add(Dense(units = 120, activation='relu'))\n",
    "model.add(Dense(units = 60, activation = 'relu'))\n",
    "model.add(Dense(units = 1, activation='sigmoid'))\n",
    "model.summary()"
   ]
  },
  {
   "cell_type": "code",
   "execution_count": 69,
   "id": "8d749b08",
   "metadata": {},
   "outputs": [],
   "source": [
    "model.compile(optimizer=Adam(lr=0.01), loss='binary_crossentropy', metrics=['accuracy'])"
   ]
  },
  {
   "cell_type": "code",
   "execution_count": 70,
   "id": "a39a8eb3",
   "metadata": {
    "scrolled": true
   },
   "outputs": [
    {
     "name": "stdout",
     "output_type": "stream",
     "text": [
      "Epoch 1/10\n",
      "15/15 [==============================] - 282s 19s/step - loss: 4.6960 - accuracy: 0.7229 - val_loss: 13766.2051 - val_accuracy: 0.7857\n",
      "Epoch 2/10\n",
      "15/15 [==============================] - 277s 18s/step - loss: 0.6336 - accuracy: 0.7875 - val_loss: 5443.5210 - val_accuracy: 0.8080\n",
      "Epoch 3/10\n",
      "15/15 [==============================] - 279s 19s/step - loss: 0.5379 - accuracy: 0.7708 - val_loss: 1768.5392 - val_accuracy: 0.7634\n",
      "Epoch 4/10\n",
      "15/15 [==============================] - 296s 20s/step - loss: 0.4848 - accuracy: 0.8062 - val_loss: 1041.8477 - val_accuracy: 0.8036\n",
      "Epoch 5/10\n",
      "15/15 [==============================] - 1941s 129s/step - loss: 0.4861 - accuracy: 0.8000 - val_loss: 5.9215 - val_accuracy: 0.8348\n",
      "Epoch 6/10\n",
      "15/15 [==============================] - 254s 17s/step - loss: 0.4954 - accuracy: 0.7792 - val_loss: 2.0241 - val_accuracy: 0.8036\n",
      "Epoch 7/10\n",
      "15/15 [==============================] - 275s 18s/step - loss: 0.5400 - accuracy: 0.7667 - val_loss: 5.5986 - val_accuracy: 0.7589\n",
      "Epoch 8/10\n",
      "15/15 [==============================] - 278s 19s/step - loss: 0.4941 - accuracy: 0.7688 - val_loss: 3.9771 - val_accuracy: 0.7768\n",
      "Epoch 9/10\n",
      "15/15 [==============================] - 285s 19s/step - loss: 0.5019 - accuracy: 0.7833 - val_loss: 7.3239 - val_accuracy: 0.8036\n",
      "Epoch 10/10\n",
      "15/15 [==============================] - 285s 19s/step - loss: 0.4628 - accuracy: 0.7958 - val_loss: 5.3145 - val_accuracy: 0.7812\n"
     ]
    }
   ],
   "source": [
    "history = model.fit_generator(\n",
    "    training_set,\n",
    "    epochs = 10,\n",
    "    steps_per_epoch = 15,\n",
    "    validation_data = valuation_set,\n",
    "    validation_steps = 7\n",
    ")"
   ]
  },
  {
   "cell_type": "code",
   "execution_count": 71,
   "id": "7ff79e56",
   "metadata": {},
   "outputs": [
    {
     "name": "stdout",
     "output_type": "stream",
     "text": [
      "WARNING:tensorflow:Model was constructed with shape (None, 32, 32, 3) for input Tensor(\"efficientnetb0_input_2:0\", shape=(None, 32, 32, 3), dtype=float32), but it was called on an input with incompatible shape (32, 224, 224, 3).\n",
      "WARNING:tensorflow:Model was constructed with shape (None, 32, 32, 3) for input Tensor(\"input_4:0\", shape=(None, 32, 32, 3), dtype=float32), but it was called on an input with incompatible shape (32, 224, 224, 3).\n",
      "20/20 [==============================] - 40s 2s/step - loss: 5.1129 - accuracy: 0.7906\n"
     ]
    },
    {
     "data": {
      "text/plain": [
       "[5.112915992736816, 0.7906249761581421]"
      ]
     },
     "execution_count": 71,
     "metadata": {},
     "output_type": "execute_result"
    }
   ],
   "source": [
    "model.evaluate(test_x,test_y,batch_size=32)"
   ]
  },
  {
   "cell_type": "code",
   "execution_count": 72,
   "id": "fc774391",
   "metadata": {},
   "outputs": [
    {
     "name": "stdout",
     "output_type": "stream",
     "text": [
      "D:\\efficientnet\n",
      "Saved model to disk\n"
     ]
    }
   ],
   "source": [
    "model_json = model.to_json()\n",
    "with open(\"model.json\", \"w\") as json_file:\n",
    "    json_file.write(model_json)\n",
    "# serialize weights to HDF5\n",
    "print(os.getcwd())\n",
    "model.save_weights(\"model.h5\")\n",
    "print(\"Saved model to disk\")"
   ]
  },
  {
   "cell_type": "code",
   "execution_count": 73,
   "id": "428fc484",
   "metadata": {},
   "outputs": [
    {
     "name": "stdout",
     "output_type": "stream",
     "text": [
      "WARNING:tensorflow:Your input ran out of data; interrupting training. Make sure that your dataset or generator can generate at least `steps_per_epoch * epochs` batches (in this case, 640 batches). You may need to use the repeat() function when building your dataset.\n"
     ]
    }
   ],
   "source": [
    "preds = model.predict_generator(\n",
    "    testing_set,\n",
    "    steps=len(testing_set.filenames)\n",
    ")"
   ]
  },
  {
   "cell_type": "code",
   "execution_count": null,
   "id": "fadb1561",
   "metadata": {},
   "outputs": [],
   "source": [
    "Model.predict"
   ]
  },
  {
   "cell_type": "code",
   "execution_count": 74,
   "id": "cf2b7ad3",
   "metadata": {},
   "outputs": [
    {
     "data": {
      "image/png": "[encoded data removed]",
      "text/plain": [
       "<Figure size 640x480 with 1 Axes>"
      ]
     },
     "metadata": {},
     "output_type": "display_data"
    },
    {
     "data": {
      "image/png": "[encoded data removed]",
      "text/plain": [
       "<Figure size 640x480 with 1 Axes>"
      ]
     },
     "metadata": {},
     "output_type": "display_data"
    }
   ],
   "source": [
    "acc = history.history['accuracy']\n",
    "val_acc = history.history['val_accuracy']\n",
    "loss = history.history['loss']\n",
    "val_loss = history.history['val_loss']\n",
    "\n",
    "epochs = range(1,len(acc) + 1)\n",
    "\n",
    "plt.plot(epochs,acc,'bo',label = 'Training Accuracy')\n",
    "plt.plot(epochs,val_acc,'b',label = 'Validation Accuracy')\n",
    "plt.title('Training and Validation Accuracy')\n",
    "plt.legend()\n",
    "plt.figure()\n",
    "\n",
    "plt.plot(epochs,loss,'bo',label = 'Training loss')\n",
    "plt.plot(epochs,val_loss,'b',label = 'Validation Loss')\n",
    "plt.title('Training and Validation Loss')\n",
    "plt.legend()\n",
    "\n",
    "plt.show()"
   ]
  },
  {
   "cell_type": "code",
   "execution_count": null,
   "id": "1c2eface",
   "metadata": {},
   "outputs": [],
   "source": [
    "submission.to_csv(\"submission.csv\", index=False)"
   ]
  },
  {
   "cell_type": "code",
   "execution_count": 75,
   "id": "4388a3cf",
   "metadata": {},
   "outputs": [],
   "source": [
    "from sklearn.metrics import accuracy_score,classification_report,confusion_matrix\n",
    "import numpy as np"
   ]
  },
  {
   "cell_type": "code",
   "execution_count": 76,
   "id": "5ea6c637",
   "metadata": {},
   "outputs": [
    {
     "name": "stdout",
     "output_type": "stream",
     "text": [
      "WARNING:tensorflow:Model was constructed with shape (None, 32, 32, 3) for input Tensor(\"efficientnetb0_input_2:0\", shape=(None, 32, 32, 3), dtype=float32), but it was called on an input with incompatible shape (32, 224, 224, 3).\n",
      "WARNING:tensorflow:Model was constructed with shape (None, 32, 32, 3) for input Tensor(\"input_4:0\", shape=(None, 32, 32, 3), dtype=float32), but it was called on an input with incompatible shape (32, 224, 224, 3).\n"
     ]
    }
   ],
   "source": [
    "#predict\n",
    "y_pred=model.predict(test_x)\n",
    "y_pred=np.argmax(y_pred,axis=1)"
   ]
  },
  {
   "cell_type": "code",
   "execution_count": 77,
   "id": "82f72c18",
   "metadata": {},
   "outputs": [
    {
     "name": "stdout",
     "output_type": "stream",
     "text": [
      "              precision    recall  f1-score   support\n",
      "\n",
      "           0       1.00      0.79      0.88       640\n",
      "           1       0.00      0.00      0.00         0\n",
      "\n",
      "    accuracy                           0.79       640\n",
      "   macro avg       0.50      0.40      0.44       640\n",
      "weighted avg       1.00      0.79      0.88       640\n",
      "\n"
     ]
    }
   ],
   "source": [
    "#get classification report\n",
    "print(classification_report(y_pred,test_y))"
   ]
  },
  {
   "cell_type": "code",
   "execution_count": 78,
   "id": "c987591a",
   "metadata": {},
   "outputs": [
    {
     "name": "stdout",
     "output_type": "stream",
     "text": [
      "[[506 134]\n",
      " [  0   0]]\n"
     ]
    }
   ],
   "source": [
    "#get confusion matrix\n",
    "print(confusion_matrix(y_pred,test_y))"
   ]
  },
  {
   "cell_type": "code",
   "execution_count": null,
   "id": "f9aaa6ed",
   "metadata": {},
   "outputs": [],
   "source": []
  }
 ],
 "metadata": {
  "kernelspec": {
   "display_name": "Python 3 (ipykernel)",
   "language": "python",
   "name": "python3"
  },
  "language_info": {
   "codemirror_mode": {
    "name": "ipython",
    "version": 3
   },
   "file_extension": ".py",
   "mimetype": "text/x-python",
   "name": "python",
   "nbconvert_exporter": "python",
   "pygments_lexer": "ipython3",
   "version": "3.8.13"
  }
 },
 "nbformat": 4,
 "nbformat_minor": 5
}
